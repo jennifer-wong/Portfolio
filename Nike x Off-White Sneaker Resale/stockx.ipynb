{
 "cells": [
  {
   "cell_type": "markdown",
   "id": "b2609c05-8004-4e57-b59f-bd35e8c33e67",
   "metadata": {},
   "source": [
    "- data source: https://stockx.com/news/the-2019-data-contest/\n",
    "- visualization of nike x off-white sneaker resale within 30 days of release"
   ]
  },
  {
   "cell_type": "code",
   "execution_count": 1,
   "id": "c5fcf23b-24f8-4975-ad1c-f70a6e71c814",
   "metadata": {},
   "outputs": [],
   "source": [
    "import pandas as pd\n",
    "from datetime import datetime, timedelta\n",
    "import requests\n",
    "from requests.exceptions import HTTPError\n",
    "import os\n",
    "import plotly.express as px"
   ]
  },
  {
   "cell_type": "code",
   "execution_count": 3,
   "id": "235f1067-7cd7-420e-a4a6-36ef4a7b9e15",
   "metadata": {},
   "outputs": [],
   "source": [
    "sneaker_sales = pd.read_excel('StockX-Data-Contest-2019-3.xlsx', sheet_name='Raw Data')\n",
    "\n",
    "# time range of sales data\n",
    "data_start_date = datetime(2017, 9, 1).date()\n",
    "data_end_date = datetime(2019, 2, 13).date()\n",
    "\n",
    "# data cleaning\n",
    "sneaker_sales['Brand'] = sneaker_sales['Brand'].str.strip()\n",
    "sneaker_sales['Sneaker Name'] = sneaker_sales['Sneaker Name'].str.replace('Adidas', 'adidas') # modified for downloading images\n",
    "sneaker_sales['Display Sneaker Name'] = sneaker_sales['Sneaker Name'].apply(\n",
    "    lambda x: x.replace('-', ' ').replace('Off White', 'Off-White').replace('adidas', 'Adidas').replace('2pt0', '2.0')\n",
    ")\n",
    "sneaker_sales['Order Date'] = sneaker_sales['Order Date'].dt.date\n",
    "sneaker_sales['Release Date'] = sneaker_sales['Release Date'].dt.date"
   ]
  },
  {
   "cell_type": "code",
   "execution_count": 9,
   "id": "aefa3126-016e-4747-b14a-0870515c874d",
   "metadata": {},
   "outputs": [],
   "source": [
    "sneaker_info = sneaker_sales[['Brand', 'Sneaker Name', 'Display Sneaker Name', 'Release Date', 'Retail Price']]\\\n",
    "    .drop_duplicates()\\\n",
    "    .reset_index(drop=True)\n",
    "sneaker_info['Release Date + 30 Days'] = sneaker_info['Release Date'] + timedelta(days=30)\n",
    "\n",
    "# indicates if [release date, release date + 30 days] interval for each sneaker is completely within sales data time range\n",
    "sneaker_info['Include Sneaker'] = sneaker_info.apply(\n",
    "    lambda x: True if x['Release Date'] >= data_start_date and x['Release Date + 30 Days'] <= data_end_date else False,\n",
    "    axis=1\n",
    ")\n",
    "\n",
    "sneaker_sales = sneaker_sales.merge(\n",
    "    sneaker_info[['Sneaker Name', 'Release Date + 30 Days', 'Include Sneaker']],\n",
    "    how='left',\n",
    "    on='Sneaker Name'\n",
    ")\n",
    "sneaker_sales['Within 30 Days of Release'] = sneaker_sales.apply(\n",
    "    lambda x: True if x['Release Date'] <= x['Order Date'] <= x['Release Date + 30 Days'] else False,\n",
    "    axis=1\n",
    ")"
   ]
  },
  {
   "cell_type": "code",
   "execution_count": 10,
   "id": "3bcece0c-3c0a-483e-a194-fd0939a53555",
   "metadata": {},
   "outputs": [
    {
     "data": {
      "text/html": [
       "<div>\n",
       "<style scoped>\n",
       "    .dataframe tbody tr th:only-of-type {\n",
       "        vertical-align: middle;\n",
       "    }\n",
       "\n",
       "    .dataframe tbody tr th {\n",
       "        vertical-align: top;\n",
       "    }\n",
       "\n",
       "    .dataframe thead th {\n",
       "        text-align: right;\n",
       "    }\n",
       "</style>\n",
       "<table border=\"1\" class=\"dataframe\">\n",
       "  <thead>\n",
       "    <tr style=\"text-align: right;\">\n",
       "      <th></th>\n",
       "      <th>Order Date</th>\n",
       "      <th>Brand</th>\n",
       "      <th>Sneaker Name</th>\n",
       "      <th>Sale Price</th>\n",
       "      <th>Retail Price</th>\n",
       "      <th>Release Date</th>\n",
       "      <th>Shoe Size</th>\n",
       "      <th>Buyer Region</th>\n",
       "      <th>Display Sneaker Name</th>\n",
       "      <th>Release Date + 30 Days</th>\n",
       "      <th>Include Sneaker</th>\n",
       "      <th>Within 30 Days of Release</th>\n",
       "    </tr>\n",
       "  </thead>\n",
       "  <tbody>\n",
       "    <tr>\n",
       "      <th>0</th>\n",
       "      <td>2017-09-01</td>\n",
       "      <td>Yeezy</td>\n",
       "      <td>adidas-Yeezy-Boost-350-Low-V2-Beluga</td>\n",
       "      <td>1097.0</td>\n",
       "      <td>220</td>\n",
       "      <td>2016-09-24</td>\n",
       "      <td>11.0</td>\n",
       "      <td>California</td>\n",
       "      <td>Adidas Yeezy Boost 350 Low V2 Beluga</td>\n",
       "      <td>2016-10-24</td>\n",
       "      <td>False</td>\n",
       "      <td>False</td>\n",
       "    </tr>\n",
       "    <tr>\n",
       "      <th>1</th>\n",
       "      <td>2017-09-01</td>\n",
       "      <td>Yeezy</td>\n",
       "      <td>adidas-Yeezy-Boost-350-V2-Core-Black-Copper</td>\n",
       "      <td>685.0</td>\n",
       "      <td>220</td>\n",
       "      <td>2016-11-23</td>\n",
       "      <td>11.0</td>\n",
       "      <td>California</td>\n",
       "      <td>Adidas Yeezy Boost 350 V2 Core Black Copper</td>\n",
       "      <td>2016-12-23</td>\n",
       "      <td>False</td>\n",
       "      <td>False</td>\n",
       "    </tr>\n",
       "    <tr>\n",
       "      <th>2</th>\n",
       "      <td>2017-09-01</td>\n",
       "      <td>Yeezy</td>\n",
       "      <td>adidas-Yeezy-Boost-350-V2-Core-Black-Green</td>\n",
       "      <td>690.0</td>\n",
       "      <td>220</td>\n",
       "      <td>2016-11-23</td>\n",
       "      <td>11.0</td>\n",
       "      <td>California</td>\n",
       "      <td>Adidas Yeezy Boost 350 V2 Core Black Green</td>\n",
       "      <td>2016-12-23</td>\n",
       "      <td>False</td>\n",
       "      <td>False</td>\n",
       "    </tr>\n",
       "    <tr>\n",
       "      <th>3</th>\n",
       "      <td>2017-09-01</td>\n",
       "      <td>Yeezy</td>\n",
       "      <td>adidas-Yeezy-Boost-350-V2-Core-Black-Red</td>\n",
       "      <td>1075.0</td>\n",
       "      <td>220</td>\n",
       "      <td>2016-11-23</td>\n",
       "      <td>11.5</td>\n",
       "      <td>Kentucky</td>\n",
       "      <td>Adidas Yeezy Boost 350 V2 Core Black Red</td>\n",
       "      <td>2016-12-23</td>\n",
       "      <td>False</td>\n",
       "      <td>False</td>\n",
       "    </tr>\n",
       "    <tr>\n",
       "      <th>4</th>\n",
       "      <td>2017-09-01</td>\n",
       "      <td>Yeezy</td>\n",
       "      <td>adidas-Yeezy-Boost-350-V2-Core-Black-Red-2017</td>\n",
       "      <td>828.0</td>\n",
       "      <td>220</td>\n",
       "      <td>2017-02-11</td>\n",
       "      <td>11.0</td>\n",
       "      <td>Rhode Island</td>\n",
       "      <td>Adidas Yeezy Boost 350 V2 Core Black Red 2017</td>\n",
       "      <td>2017-03-13</td>\n",
       "      <td>False</td>\n",
       "      <td>False</td>\n",
       "    </tr>\n",
       "  </tbody>\n",
       "</table>\n",
       "</div>"
      ],
      "text/plain": [
       "   Order Date  Brand                                   Sneaker Name  \\\n",
       "0  2017-09-01  Yeezy           adidas-Yeezy-Boost-350-Low-V2-Beluga   \n",
       "1  2017-09-01  Yeezy    adidas-Yeezy-Boost-350-V2-Core-Black-Copper   \n",
       "2  2017-09-01  Yeezy     adidas-Yeezy-Boost-350-V2-Core-Black-Green   \n",
       "3  2017-09-01  Yeezy       adidas-Yeezy-Boost-350-V2-Core-Black-Red   \n",
       "4  2017-09-01  Yeezy  adidas-Yeezy-Boost-350-V2-Core-Black-Red-2017   \n",
       "\n",
       "   Sale Price  Retail Price Release Date  Shoe Size  Buyer Region  \\\n",
       "0      1097.0           220   2016-09-24       11.0    California   \n",
       "1       685.0           220   2016-11-23       11.0    California   \n",
       "2       690.0           220   2016-11-23       11.0    California   \n",
       "3      1075.0           220   2016-11-23       11.5      Kentucky   \n",
       "4       828.0           220   2017-02-11       11.0  Rhode Island   \n",
       "\n",
       "                            Display Sneaker Name Release Date + 30 Days  \\\n",
       "0           Adidas Yeezy Boost 350 Low V2 Beluga             2016-10-24   \n",
       "1    Adidas Yeezy Boost 350 V2 Core Black Copper             2016-12-23   \n",
       "2     Adidas Yeezy Boost 350 V2 Core Black Green             2016-12-23   \n",
       "3       Adidas Yeezy Boost 350 V2 Core Black Red             2016-12-23   \n",
       "4  Adidas Yeezy Boost 350 V2 Core Black Red 2017             2017-03-13   \n",
       "\n",
       "   Include Sneaker  Within 30 Days of Release  \n",
       "0            False                      False  \n",
       "1            False                      False  \n",
       "2            False                      False  \n",
       "3            False                      False  \n",
       "4            False                      False  "
      ]
     },
     "execution_count": 10,
     "metadata": {},
     "output_type": "execute_result"
    }
   ],
   "source": [
    "sneaker_sales.head()"
   ]
  },
  {
   "cell_type": "code",
   "execution_count": 34,
   "id": "06932f0c-e319-4ef7-96c6-dcfb3744f615",
   "metadata": {
    "scrolled": true
   },
   "outputs": [],
   "source": [
    "# get stats for each sneaker\n",
    "sneakers = sneaker_sales[(sneaker_sales['Include Sneaker'] == True) & (sneaker_sales['Within 30 Days of Release'] == True)]\\\n",
    "    .groupby(\n",
    "        ['Brand', 'Sneaker Name', 'Display Sneaker Name', 'Release Date', 'Release Date + 30 Days', 'Retail Price'],\n",
    "        dropna=False\n",
    "    )\\\n",
    "    .apply(lambda x: pd.Series({\n",
    "        '# of Sales': x.shape[0],\n",
    "        'Avg Sale Price': round(x['Sale Price'].mean(), 2),\n",
    "        'Median Sale Price': round(x['Sale Price'].median(), 2),\n",
    "        'Avg Price Premium': round((x['Sale Price'].sum() - x['Retail Price'].sum()) / x['Retail Price'].sum() * 100, 1)\n",
    "    }))\\\n",
    "    .reset_index()\n",
    "sneakers['# of Sales'] = sneakers['# of Sales'].astype(int)\n",
    "\n",
    "ow_sneakers = sneakers[sneakers['Brand'] == 'Off-White']\\\n",
    "    .sort_values('Avg Price Premium', ascending=False)\\\n",
    "    .reset_index(drop=True)"
   ]
  },
  {
   "cell_type": "code",
   "execution_count": 35,
   "id": "10b626bd-ce60-4145-9cd6-ee64f4632d75",
   "metadata": {},
   "outputs": [
    {
     "data": {
      "text/html": [
       "<div>\n",
       "<style scoped>\n",
       "    .dataframe tbody tr th:only-of-type {\n",
       "        vertical-align: middle;\n",
       "    }\n",
       "\n",
       "    .dataframe tbody tr th {\n",
       "        vertical-align: top;\n",
       "    }\n",
       "\n",
       "    .dataframe thead th {\n",
       "        text-align: right;\n",
       "    }\n",
       "</style>\n",
       "<table border=\"1\" class=\"dataframe\">\n",
       "  <thead>\n",
       "    <tr style=\"text-align: right;\">\n",
       "      <th></th>\n",
       "      <th>Brand</th>\n",
       "      <th>Sneaker Name</th>\n",
       "      <th>Display Sneaker Name</th>\n",
       "      <th>Release Date</th>\n",
       "      <th>Release Date + 30 Days</th>\n",
       "      <th>Retail Price</th>\n",
       "      <th># of Sales</th>\n",
       "      <th>Avg Sale Price</th>\n",
       "      <th>Median Sale Price</th>\n",
       "      <th>Avg Price Premium</th>\n",
       "    </tr>\n",
       "  </thead>\n",
       "  <tbody>\n",
       "    <tr>\n",
       "      <th>0</th>\n",
       "      <td>Off-White</td>\n",
       "      <td>Air-Jordan-1-Retro-High-Off-White-Chicago</td>\n",
       "      <td>Air Jordan 1 Retro High Off-White Chicago</td>\n",
       "      <td>2017-09-09</td>\n",
       "      <td>2017-10-09</td>\n",
       "      <td>190</td>\n",
       "      <td>48</td>\n",
       "      <td>1938.56</td>\n",
       "      <td>1903.5</td>\n",
       "      <td>920.3</td>\n",
       "    </tr>\n",
       "    <tr>\n",
       "      <th>1</th>\n",
       "      <td>Off-White</td>\n",
       "      <td>Air-Jordan-1-Retro-High-Off-White-White</td>\n",
       "      <td>Air Jordan 1 Retro High Off-White White</td>\n",
       "      <td>2018-03-03</td>\n",
       "      <td>2018-04-02</td>\n",
       "      <td>190</td>\n",
       "      <td>118</td>\n",
       "      <td>1711.90</td>\n",
       "      <td>1697.0</td>\n",
       "      <td>801.0</td>\n",
       "    </tr>\n",
       "    <tr>\n",
       "      <th>2</th>\n",
       "      <td>Off-White</td>\n",
       "      <td>Nike-Air-Presto-Off-White</td>\n",
       "      <td>Nike Air Presto Off-White</td>\n",
       "      <td>2017-09-09</td>\n",
       "      <td>2017-10-09</td>\n",
       "      <td>160</td>\n",
       "      <td>48</td>\n",
       "      <td>1220.65</td>\n",
       "      <td>1220.0</td>\n",
       "      <td>662.9</td>\n",
       "    </tr>\n",
       "    <tr>\n",
       "      <th>3</th>\n",
       "      <td>Off-White</td>\n",
       "      <td>Nike-Air-Force-1-Low-Virgil-Abloh-Off-White-AF100</td>\n",
       "      <td>Nike Air Force 1 Low Virgil Abloh Off-White AF100</td>\n",
       "      <td>2017-11-04</td>\n",
       "      <td>2017-12-04</td>\n",
       "      <td>150</td>\n",
       "      <td>18</td>\n",
       "      <td>876.17</td>\n",
       "      <td>865.0</td>\n",
       "      <td>484.1</td>\n",
       "    </tr>\n",
       "    <tr>\n",
       "      <th>4</th>\n",
       "      <td>Off-White</td>\n",
       "      <td>Nike-Blazer-Mid-Off-White</td>\n",
       "      <td>Nike Blazer Mid Off-White</td>\n",
       "      <td>2017-09-09</td>\n",
       "      <td>2017-10-09</td>\n",
       "      <td>130</td>\n",
       "      <td>33</td>\n",
       "      <td>698.42</td>\n",
       "      <td>699.0</td>\n",
       "      <td>437.2</td>\n",
       "    </tr>\n",
       "  </tbody>\n",
       "</table>\n",
       "</div>"
      ],
      "text/plain": [
       "       Brand                                       Sneaker Name  \\\n",
       "0  Off-White          Air-Jordan-1-Retro-High-Off-White-Chicago   \n",
       "1  Off-White            Air-Jordan-1-Retro-High-Off-White-White   \n",
       "2  Off-White                          Nike-Air-Presto-Off-White   \n",
       "3  Off-White  Nike-Air-Force-1-Low-Virgil-Abloh-Off-White-AF100   \n",
       "4  Off-White                          Nike-Blazer-Mid-Off-White   \n",
       "\n",
       "                                Display Sneaker Name Release Date  \\\n",
       "0          Air Jordan 1 Retro High Off-White Chicago   2017-09-09   \n",
       "1            Air Jordan 1 Retro High Off-White White   2018-03-03   \n",
       "2                          Nike Air Presto Off-White   2017-09-09   \n",
       "3  Nike Air Force 1 Low Virgil Abloh Off-White AF100   2017-11-04   \n",
       "4                          Nike Blazer Mid Off-White   2017-09-09   \n",
       "\n",
       "  Release Date + 30 Days  Retail Price  # of Sales  Avg Sale Price  \\\n",
       "0             2017-10-09           190          48         1938.56   \n",
       "1             2018-04-02           190         118         1711.90   \n",
       "2             2017-10-09           160          48         1220.65   \n",
       "3             2017-12-04           150          18          876.17   \n",
       "4             2017-10-09           130          33          698.42   \n",
       "\n",
       "   Median Sale Price  Avg Price Premium  \n",
       "0             1903.5              920.3  \n",
       "1             1697.0              801.0  \n",
       "2             1220.0              662.9  \n",
       "3              865.0              484.1  \n",
       "4              699.0              437.2  "
      ]
     },
     "execution_count": 35,
     "metadata": {},
     "output_type": "execute_result"
    }
   ],
   "source": [
    "ow_sneakers.head()"
   ]
  },
  {
   "cell_type": "code",
   "execution_count": null,
   "id": "0e58f746-1b3f-4848-94e1-2d73f4f16767",
   "metadata": {
    "scrolled": true
   },
   "outputs": [],
   "source": [
    "# download sneaker images\n",
    "for sneaker in ow_sneakers['Sneaker Name'].to_list():\n",
    "    for i in range(1, 37):\n",
    "        img_index = str(i).zfill(2)\n",
    "        \n",
    "        try:\n",
    "            url = f'https://images.stockx.com/360/{sneaker}/Images/{sneaker}/Lv2/img{img_index}.jpg'\n",
    "            response = requests.get(url)\n",
    "            response.raise_for_status()\n",
    "        except HTTPError as http_error:\n",
    "            print(f'({sneaker} {img_index}) http error occurred: {http_error}')\n",
    "        else:\n",
    "            with open(f'images/{sneaker}_{img_index}.jpg', 'wb') as f:\n",
    "                f.write(response.content)"
   ]
  },
  {
   "cell_type": "code",
   "execution_count": 39,
   "id": "649fac2e-754a-46f0-addd-0c8a3cf4f5ce",
   "metadata": {},
   "outputs": [
    {
     "data": {
      "text/html": [
       "<div>\n",
       "<style scoped>\n",
       "    .dataframe tbody tr th:only-of-type {\n",
       "        vertical-align: middle;\n",
       "    }\n",
       "\n",
       "    .dataframe tbody tr th {\n",
       "        vertical-align: top;\n",
       "    }\n",
       "\n",
       "    .dataframe thead th {\n",
       "        text-align: right;\n",
       "    }\n",
       "</style>\n",
       "<table border=\"1\" class=\"dataframe\">\n",
       "  <thead>\n",
       "    <tr style=\"text-align: right;\">\n",
       "      <th></th>\n",
       "      <th>filename</th>\n",
       "      <th>sneaker</th>\n",
       "      <th>index</th>\n",
       "    </tr>\n",
       "  </thead>\n",
       "  <tbody>\n",
       "    <tr>\n",
       "      <th>0</th>\n",
       "      <td>Nike-Air-Force-1-Low-Off-White-Black-White_13.jpg</td>\n",
       "      <td>Nike-Air-Force-1-Low-Off-White-Black-White</td>\n",
       "      <td>13</td>\n",
       "    </tr>\n",
       "    <tr>\n",
       "      <th>1</th>\n",
       "      <td>Nike-Air-Max-97-Off-White-Black_23.jpg</td>\n",
       "      <td>Nike-Air-Max-97-Off-White-Black</td>\n",
       "      <td>23</td>\n",
       "    </tr>\n",
       "    <tr>\n",
       "      <th>2</th>\n",
       "      <td>Nike-Air-Force-1-Low-Off-White-Black-White_07.jpg</td>\n",
       "      <td>Nike-Air-Force-1-Low-Off-White-Black-White</td>\n",
       "      <td>07</td>\n",
       "    </tr>\n",
       "    <tr>\n",
       "      <th>3</th>\n",
       "      <td>Nike-Air-VaporMax-Off-White-2018_28.jpg</td>\n",
       "      <td>Nike-Air-VaporMax-Off-White-2018</td>\n",
       "      <td>28</td>\n",
       "    </tr>\n",
       "    <tr>\n",
       "      <th>4</th>\n",
       "      <td>Nike-Blazer-Mid-Off-White-All-Hallows-Eve_13.jpg</td>\n",
       "      <td>Nike-Blazer-Mid-Off-White-All-Hallows-Eve</td>\n",
       "      <td>13</td>\n",
       "    </tr>\n",
       "  </tbody>\n",
       "</table>\n",
       "</div>"
      ],
      "text/plain": [
       "                                            filename  \\\n",
       "0  Nike-Air-Force-1-Low-Off-White-Black-White_13.jpg   \n",
       "1             Nike-Air-Max-97-Off-White-Black_23.jpg   \n",
       "2  Nike-Air-Force-1-Low-Off-White-Black-White_07.jpg   \n",
       "3            Nike-Air-VaporMax-Off-White-2018_28.jpg   \n",
       "4   Nike-Blazer-Mid-Off-White-All-Hallows-Eve_13.jpg   \n",
       "\n",
       "                                      sneaker index  \n",
       "0  Nike-Air-Force-1-Low-Off-White-Black-White    13  \n",
       "1             Nike-Air-Max-97-Off-White-Black    23  \n",
       "2  Nike-Air-Force-1-Low-Off-White-Black-White    07  \n",
       "3            Nike-Air-VaporMax-Off-White-2018    28  \n",
       "4   Nike-Blazer-Mid-Off-White-All-Hallows-Eve    13  "
      ]
     },
     "execution_count": 39,
     "metadata": {},
     "output_type": "execute_result"
    }
   ],
   "source": [
    "images = pd.DataFrame(os.listdir('images'), columns=['filename'])\n",
    "images['sneaker'] = images['filename'].apply(lambda x: x.split('_')[0])\n",
    "images['index'] = images['filename'].apply(lambda x: x.split('_')[1].split('.')[0])\n",
    "images.head()"
   ]
  },
  {
   "cell_type": "code",
   "execution_count": 47,
   "id": "d7979100-3044-4c44-b261-23ea565e5322",
   "metadata": {},
   "outputs": [
    {
     "data": {
      "text/plain": [
       "(894, 3)"
      ]
     },
     "execution_count": 47,
     "metadata": {},
     "output_type": "execute_result"
    }
   ],
   "source": [
    "images.shape"
   ]
  },
  {
   "cell_type": "code",
   "execution_count": 48,
   "id": "de72024b-b060-43c9-ab69-314e9f08674a",
   "metadata": {},
   "outputs": [
    {
     "data": {
      "text/plain": [
       "{'Nike-Air-Force-1-Low-Virgil-Abloh-Off-White-AF100'}"
      ]
     },
     "execution_count": 48,
     "metadata": {},
     "output_type": "execute_result"
    }
   ],
   "source": [
    "# sneaker with no images\n",
    "set(ow_sneakers['Sneaker Name']).difference(set(images['sneaker']))"
   ]
  },
  {
   "cell_type": "code",
   "execution_count": 49,
   "id": "2a663f4d-fcfb-4c6c-b59e-42cf711179bc",
   "metadata": {},
   "outputs": [
    {
     "data": {
      "text/plain": [
       "sneaker\n",
       "Nike-Zoom-Fly-Off-White    30\n",
       "dtype: int64"
      ]
     },
     "execution_count": 49,
     "metadata": {},
     "output_type": "execute_result"
    }
   ],
   "source": [
    "# sneaker that doesn't have 36 images\n",
    "images.groupby('sneaker').size()[lambda x: x != 36]"
   ]
  },
  {
   "cell_type": "code",
   "execution_count": 50,
   "id": "b411ee69-05b2-4f88-80c3-99b12b7bba15",
   "metadata": {},
   "outputs": [
    {
     "data": {
      "text/plain": [
       "(24, 10)"
      ]
     },
     "execution_count": 50,
     "metadata": {},
     "output_type": "execute_result"
    }
   ],
   "source": [
    "ow_sneakers = ow_sneakers[~ow_sneakers['Sneaker Name'].isin(\n",
    "    [\n",
    "        'Nike-Air-Force-1-Low-Virgil-Abloh-Off-White-AF100',\n",
    "        'Nike-Zoom-Fly-Off-White'\n",
    "    ]\n",
    ")].reset_index(drop=True)\n",
    "\n",
    "ow_sneakers.shape"
   ]
  },
  {
   "cell_type": "code",
   "execution_count": 68,
   "id": "77987b13-9319-4403-8b4e-320657689871",
   "metadata": {},
   "outputs": [
    {
     "data": {
      "application/vnd.plotly.v1+json": {
       "config": {
        "plotlyServerURL": "https://plot.ly"
       },
       "data": [
        {
         "hovertemplate": "Retail Price=%{x}<br>Avg Price Premium=%{y}<br># of Sales=%{marker.size}<extra></extra>",
         "legendgroup": "",
         "marker": {
          "color": "#636efa",
          "size": [
           48,
           118,
           48,
           33,
           37,
           132,
           861,
           1034,
           36,
           782,
           826,
           928,
           153,
           204,
           141,
           746,
           153,
           523,
           635,
           747,
           152,
           344,
           1006,
           321
          ],
          "sizemode": "area",
          "sizeref": 2.585,
          "symbol": "circle"
         },
         "mode": "markers",
         "name": "",
         "orientation": "v",
         "showlegend": false,
         "type": "scatter",
         "x": [
          190,
          190,
          160,
          130,
          160,
          190,
          130,
          160,
          250,
          130,
          190,
          160,
          190,
          190,
          170,
          170,
          190,
          250,
          250,
          170,
          200,
          200,
          170,
          200
         ],
         "xaxis": "x",
         "y": [
          920.3,
          801,
          662.9,
          437.2,
          425.5,
          375.9,
          371.2,
          352.2,
          319.4,
          314.8,
          313.2,
          307.2,
          294.6,
          244,
          216.5,
          193.2,
          182.6,
          146.1,
          126.3,
          121.9,
          118.5,
          79.2,
          59.3,
          53.6
         ],
         "yaxis": "y"
        }
       ],
       "layout": {
        "height": 400,
        "legend": {
         "itemsizing": "constant",
         "tracegroupgap": 0
        },
        "template": {
         "data": {
          "bar": [
           {
            "error_x": {
             "color": "#2a3f5f"
            },
            "error_y": {
             "color": "#2a3f5f"
            },
            "marker": {
             "line": {
              "color": "#E5ECF6",
              "width": 0.5
             },
             "pattern": {
              "fillmode": "overlay",
              "size": 10,
              "solidity": 0.2
             }
            },
            "type": "bar"
           }
          ],
          "barpolar": [
           {
            "marker": {
             "line": {
              "color": "#E5ECF6",
              "width": 0.5
             },
             "pattern": {
              "fillmode": "overlay",
              "size": 10,
              "solidity": 0.2
             }
            },
            "type": "barpolar"
           }
          ],
          "carpet": [
           {
            "aaxis": {
             "endlinecolor": "#2a3f5f",
             "gridcolor": "white",
             "linecolor": "white",
             "minorgridcolor": "white",
             "startlinecolor": "#2a3f5f"
            },
            "baxis": {
             "endlinecolor": "#2a3f5f",
             "gridcolor": "white",
             "linecolor": "white",
             "minorgridcolor": "white",
             "startlinecolor": "#2a3f5f"
            },
            "type": "carpet"
           }
          ],
          "choropleth": [
           {
            "colorbar": {
             "outlinewidth": 0,
             "ticks": ""
            },
            "type": "choropleth"
           }
          ],
          "contour": [
           {
            "colorbar": {
             "outlinewidth": 0,
             "ticks": ""
            },
            "colorscale": [
             [
              0,
              "#0d0887"
             ],
             [
              0.1111111111111111,
              "#46039f"
             ],
             [
              0.2222222222222222,
              "#7201a8"
             ],
             [
              0.3333333333333333,
              "#9c179e"
             ],
             [
              0.4444444444444444,
              "#bd3786"
             ],
             [
              0.5555555555555556,
              "#d8576b"
             ],
             [
              0.6666666666666666,
              "#ed7953"
             ],
             [
              0.7777777777777778,
              "#fb9f3a"
             ],
             [
              0.8888888888888888,
              "#fdca26"
             ],
             [
              1,
              "#f0f921"
             ]
            ],
            "type": "contour"
           }
          ],
          "contourcarpet": [
           {
            "colorbar": {
             "outlinewidth": 0,
             "ticks": ""
            },
            "type": "contourcarpet"
           }
          ],
          "heatmap": [
           {
            "colorbar": {
             "outlinewidth": 0,
             "ticks": ""
            },
            "colorscale": [
             [
              0,
              "#0d0887"
             ],
             [
              0.1111111111111111,
              "#46039f"
             ],
             [
              0.2222222222222222,
              "#7201a8"
             ],
             [
              0.3333333333333333,
              "#9c179e"
             ],
             [
              0.4444444444444444,
              "#bd3786"
             ],
             [
              0.5555555555555556,
              "#d8576b"
             ],
             [
              0.6666666666666666,
              "#ed7953"
             ],
             [
              0.7777777777777778,
              "#fb9f3a"
             ],
             [
              0.8888888888888888,
              "#fdca26"
             ],
             [
              1,
              "#f0f921"
             ]
            ],
            "type": "heatmap"
           }
          ],
          "heatmapgl": [
           {
            "colorbar": {
             "outlinewidth": 0,
             "ticks": ""
            },
            "colorscale": [
             [
              0,
              "#0d0887"
             ],
             [
              0.1111111111111111,
              "#46039f"
             ],
             [
              0.2222222222222222,
              "#7201a8"
             ],
             [
              0.3333333333333333,
              "#9c179e"
             ],
             [
              0.4444444444444444,
              "#bd3786"
             ],
             [
              0.5555555555555556,
              "#d8576b"
             ],
             [
              0.6666666666666666,
              "#ed7953"
             ],
             [
              0.7777777777777778,
              "#fb9f3a"
             ],
             [
              0.8888888888888888,
              "#fdca26"
             ],
             [
              1,
              "#f0f921"
             ]
            ],
            "type": "heatmapgl"
           }
          ],
          "histogram": [
           {
            "marker": {
             "pattern": {
              "fillmode": "overlay",
              "size": 10,
              "solidity": 0.2
             }
            },
            "type": "histogram"
           }
          ],
          "histogram2d": [
           {
            "colorbar": {
             "outlinewidth": 0,
             "ticks": ""
            },
            "colorscale": [
             [
              0,
              "#0d0887"
             ],
             [
              0.1111111111111111,
              "#46039f"
             ],
             [
              0.2222222222222222,
              "#7201a8"
             ],
             [
              0.3333333333333333,
              "#9c179e"
             ],
             [
              0.4444444444444444,
              "#bd3786"
             ],
             [
              0.5555555555555556,
              "#d8576b"
             ],
             [
              0.6666666666666666,
              "#ed7953"
             ],
             [
              0.7777777777777778,
              "#fb9f3a"
             ],
             [
              0.8888888888888888,
              "#fdca26"
             ],
             [
              1,
              "#f0f921"
             ]
            ],
            "type": "histogram2d"
           }
          ],
          "histogram2dcontour": [
           {
            "colorbar": {
             "outlinewidth": 0,
             "ticks": ""
            },
            "colorscale": [
             [
              0,
              "#0d0887"
             ],
             [
              0.1111111111111111,
              "#46039f"
             ],
             [
              0.2222222222222222,
              "#7201a8"
             ],
             [
              0.3333333333333333,
              "#9c179e"
             ],
             [
              0.4444444444444444,
              "#bd3786"
             ],
             [
              0.5555555555555556,
              "#d8576b"
             ],
             [
              0.6666666666666666,
              "#ed7953"
             ],
             [
              0.7777777777777778,
              "#fb9f3a"
             ],
             [
              0.8888888888888888,
              "#fdca26"
             ],
             [
              1,
              "#f0f921"
             ]
            ],
            "type": "histogram2dcontour"
           }
          ],
          "mesh3d": [
           {
            "colorbar": {
             "outlinewidth": 0,
             "ticks": ""
            },
            "type": "mesh3d"
           }
          ],
          "parcoords": [
           {
            "line": {
             "colorbar": {
              "outlinewidth": 0,
              "ticks": ""
             }
            },
            "type": "parcoords"
           }
          ],
          "pie": [
           {
            "automargin": true,
            "type": "pie"
           }
          ],
          "scatter": [
           {
            "fillpattern": {
             "fillmode": "overlay",
             "size": 10,
             "solidity": 0.2
            },
            "type": "scatter"
           }
          ],
          "scatter3d": [
           {
            "line": {
             "colorbar": {
              "outlinewidth": 0,
              "ticks": ""
             }
            },
            "marker": {
             "colorbar": {
              "outlinewidth": 0,
              "ticks": ""
             }
            },
            "type": "scatter3d"
           }
          ],
          "scattercarpet": [
           {
            "marker": {
             "colorbar": {
              "outlinewidth": 0,
              "ticks": ""
             }
            },
            "type": "scattercarpet"
           }
          ],
          "scattergeo": [
           {
            "marker": {
             "colorbar": {
              "outlinewidth": 0,
              "ticks": ""
             }
            },
            "type": "scattergeo"
           }
          ],
          "scattergl": [
           {
            "marker": {
             "colorbar": {
              "outlinewidth": 0,
              "ticks": ""
             }
            },
            "type": "scattergl"
           }
          ],
          "scattermapbox": [
           {
            "marker": {
             "colorbar": {
              "outlinewidth": 0,
              "ticks": ""
             }
            },
            "type": "scattermapbox"
           }
          ],
          "scatterpolar": [
           {
            "marker": {
             "colorbar": {
              "outlinewidth": 0,
              "ticks": ""
             }
            },
            "type": "scatterpolar"
           }
          ],
          "scatterpolargl": [
           {
            "marker": {
             "colorbar": {
              "outlinewidth": 0,
              "ticks": ""
             }
            },
            "type": "scatterpolargl"
           }
          ],
          "scatterternary": [
           {
            "marker": {
             "colorbar": {
              "outlinewidth": 0,
              "ticks": ""
             }
            },
            "type": "scatterternary"
           }
          ],
          "surface": [
           {
            "colorbar": {
             "outlinewidth": 0,
             "ticks": ""
            },
            "colorscale": [
             [
              0,
              "#0d0887"
             ],
             [
              0.1111111111111111,
              "#46039f"
             ],
             [
              0.2222222222222222,
              "#7201a8"
             ],
             [
              0.3333333333333333,
              "#9c179e"
             ],
             [
              0.4444444444444444,
              "#bd3786"
             ],
             [
              0.5555555555555556,
              "#d8576b"
             ],
             [
              0.6666666666666666,
              "#ed7953"
             ],
             [
              0.7777777777777778,
              "#fb9f3a"
             ],
             [
              0.8888888888888888,
              "#fdca26"
             ],
             [
              1,
              "#f0f921"
             ]
            ],
            "type": "surface"
           }
          ],
          "table": [
           {
            "cells": {
             "fill": {
              "color": "#EBF0F8"
             },
             "line": {
              "color": "white"
             }
            },
            "header": {
             "fill": {
              "color": "#C8D4E3"
             },
             "line": {
              "color": "white"
             }
            },
            "type": "table"
           }
          ]
         },
         "layout": {
          "annotationdefaults": {
           "arrowcolor": "#2a3f5f",
           "arrowhead": 0,
           "arrowwidth": 1
          },
          "autotypenumbers": "strict",
          "coloraxis": {
           "colorbar": {
            "outlinewidth": 0,
            "ticks": ""
           }
          },
          "colorscale": {
           "diverging": [
            [
             0,
             "#8e0152"
            ],
            [
             0.1,
             "#c51b7d"
            ],
            [
             0.2,
             "#de77ae"
            ],
            [
             0.3,
             "#f1b6da"
            ],
            [
             0.4,
             "#fde0ef"
            ],
            [
             0.5,
             "#f7f7f7"
            ],
            [
             0.6,
             "#e6f5d0"
            ],
            [
             0.7,
             "#b8e186"
            ],
            [
             0.8,
             "#7fbc41"
            ],
            [
             0.9,
             "#4d9221"
            ],
            [
             1,
             "#276419"
            ]
           ],
           "sequential": [
            [
             0,
             "#0d0887"
            ],
            [
             0.1111111111111111,
             "#46039f"
            ],
            [
             0.2222222222222222,
             "#7201a8"
            ],
            [
             0.3333333333333333,
             "#9c179e"
            ],
            [
             0.4444444444444444,
             "#bd3786"
            ],
            [
             0.5555555555555556,
             "#d8576b"
            ],
            [
             0.6666666666666666,
             "#ed7953"
            ],
            [
             0.7777777777777778,
             "#fb9f3a"
            ],
            [
             0.8888888888888888,
             "#fdca26"
            ],
            [
             1,
             "#f0f921"
            ]
           ],
           "sequentialminus": [
            [
             0,
             "#0d0887"
            ],
            [
             0.1111111111111111,
             "#46039f"
            ],
            [
             0.2222222222222222,
             "#7201a8"
            ],
            [
             0.3333333333333333,
             "#9c179e"
            ],
            [
             0.4444444444444444,
             "#bd3786"
            ],
            [
             0.5555555555555556,
             "#d8576b"
            ],
            [
             0.6666666666666666,
             "#ed7953"
            ],
            [
             0.7777777777777778,
             "#fb9f3a"
            ],
            [
             0.8888888888888888,
             "#fdca26"
            ],
            [
             1,
             "#f0f921"
            ]
           ]
          },
          "colorway": [
           "#636efa",
           "#EF553B",
           "#00cc96",
           "#ab63fa",
           "#FFA15A",
           "#19d3f3",
           "#FF6692",
           "#B6E880",
           "#FF97FF",
           "#FECB52"
          ],
          "font": {
           "color": "#2a3f5f"
          },
          "geo": {
           "bgcolor": "white",
           "lakecolor": "white",
           "landcolor": "#E5ECF6",
           "showlakes": true,
           "showland": true,
           "subunitcolor": "white"
          },
          "hoverlabel": {
           "align": "left"
          },
          "hovermode": "closest",
          "mapbox": {
           "style": "light"
          },
          "paper_bgcolor": "white",
          "plot_bgcolor": "#E5ECF6",
          "polar": {
           "angularaxis": {
            "gridcolor": "white",
            "linecolor": "white",
            "ticks": ""
           },
           "bgcolor": "#E5ECF6",
           "radialaxis": {
            "gridcolor": "white",
            "linecolor": "white",
            "ticks": ""
           }
          },
          "scene": {
           "xaxis": {
            "backgroundcolor": "#E5ECF6",
            "gridcolor": "white",
            "gridwidth": 2,
            "linecolor": "white",
            "showbackground": true,
            "ticks": "",
            "zerolinecolor": "white"
           },
           "yaxis": {
            "backgroundcolor": "#E5ECF6",
            "gridcolor": "white",
            "gridwidth": 2,
            "linecolor": "white",
            "showbackground": true,
            "ticks": "",
            "zerolinecolor": "white"
           },
           "zaxis": {
            "backgroundcolor": "#E5ECF6",
            "gridcolor": "white",
            "gridwidth": 2,
            "linecolor": "white",
            "showbackground": true,
            "ticks": "",
            "zerolinecolor": "white"
           }
          },
          "shapedefaults": {
           "line": {
            "color": "#2a3f5f"
           }
          },
          "ternary": {
           "aaxis": {
            "gridcolor": "white",
            "linecolor": "white",
            "ticks": ""
           },
           "baxis": {
            "gridcolor": "white",
            "linecolor": "white",
            "ticks": ""
           },
           "bgcolor": "#E5ECF6",
           "caxis": {
            "gridcolor": "white",
            "linecolor": "white",
            "ticks": ""
           }
          },
          "title": {
           "x": 0.05
          },
          "xaxis": {
           "automargin": true,
           "gridcolor": "white",
           "linecolor": "white",
           "ticks": "",
           "title": {
            "standoff": 15
           },
           "zerolinecolor": "white",
           "zerolinewidth": 2
          },
          "yaxis": {
           "automargin": true,
           "gridcolor": "white",
           "linecolor": "white",
           "ticks": "",
           "title": {
            "standoff": 15
           },
           "zerolinecolor": "white",
           "zerolinewidth": 2
          }
         }
        },
        "title": {
         "text": "Nike x Off-White Sneaker Resale"
        },
        "width": 700,
        "xaxis": {
         "anchor": "y",
         "autorange": true,
         "domain": [
          0,
          1
         ],
         "range": [
          119.1733771946471,
          260.294166114814
         ],
         "title": {
          "text": "Retail Price"
         },
         "type": "linear"
        },
        "yaxis": {
         "anchor": "x",
         "autorange": true,
         "domain": [
          0,
          1
         ],
         "range": [
          -68.62926260900268,
          989.5978703504479
         ],
         "title": {
          "text": "Avg Price Premium"
         },
         "type": "linear"
        }
       }
      },
      "image/png": "[encoded data removed]",
      "text/html": [
       "<div>                            <div id=\"d6cc8f94-aef4-4faf-9559-d0235bf43a61\" class=\"plotly-graph-div\" style=\"height:400px; width:700px;\"></div>            <script type=\"text/javascript\">                require([\"plotly\"], function(Plotly) {                    window.PLOTLYENV=window.PLOTLYENV || {};                                    if (document.getElementById(\"d6cc8f94-aef4-4faf-9559-d0235bf43a61\")) {                    Plotly.newPlot(                        \"d6cc8f94-aef4-4faf-9559-d0235bf43a61\",                        [{\"hovertemplate\":\"Retail Price=%{x}<br>Avg Price Premium=%{y}<br># of Sales=%{marker.size}<extra></extra>\",\"legendgroup\":\"\",\"marker\":{\"color\":\"#636efa\",\"size\":[48,118,48,33,37,132,861,1034,36,782,826,928,153,204,141,746,153,523,635,747,152,344,1006,321],\"sizemode\":\"area\",\"sizeref\":2.585,\"symbol\":\"circle\"},\"mode\":\"markers\",\"name\":\"\",\"orientation\":\"v\",\"showlegend\":false,\"x\":[190,190,160,130,160,190,130,160,250,130,190,160,190,190,170,170,190,250,250,170,200,200,170,200],\"xaxis\":\"x\",\"y\":[920.3,801.0,662.9,437.2,425.5,375.9,371.2,352.2,319.4,314.8,313.2,307.2,294.6,244.0,216.5,193.2,182.6,146.1,126.3,121.9,118.5,79.2,59.3,53.6],\"yaxis\":\"y\",\"type\":\"scatter\"}],                        {\"template\":{\"data\":{\"histogram2dcontour\":[{\"type\":\"histogram2dcontour\",\"colorbar\":{\"outlinewidth\":0,\"ticks\":\"\"},\"colorscale\":[[0.0,\"#0d0887\"],[0.1111111111111111,\"#46039f\"],[0.2222222222222222,\"#7201a8\"],[0.3333333333333333,\"#9c179e\"],[0.4444444444444444,\"#bd3786\"],[0.5555555555555556,\"#d8576b\"],[0.6666666666666666,\"#ed7953\"],[0.7777777777777778,\"#fb9f3a\"],[0.8888888888888888,\"#fdca26\"],[1.0,\"#f0f921\"]]}],\"choropleth\":[{\"type\":\"choropleth\",\"colorbar\":{\"outlinewidth\":0,\"ticks\":\"\"}}],\"histogram2d\":[{\"type\":\"histogram2d\",\"colorbar\":{\"outlinewidth\":0,\"ticks\":\"\"},\"colorscale\":[[0.0,\"#0d0887\"],[0.1111111111111111,\"#46039f\"],[0.2222222222222222,\"#7201a8\"],[0.3333333333333333,\"#9c179e\"],[0.4444444444444444,\"#bd3786\"],[0.5555555555555556,\"#d8576b\"],[0.6666666666666666,\"#ed7953\"],[0.7777777777777778,\"#fb9f3a\"],[0.8888888888888888,\"#fdca26\"],[1.0,\"#f0f921\"]]}],\"heatmap\":[{\"type\":\"heatmap\",\"colorbar\":{\"outlinewidth\":0,\"ticks\":\"\"},\"colorscale\":[[0.0,\"#0d0887\"],[0.1111111111111111,\"#46039f\"],[0.2222222222222222,\"#7201a8\"],[0.3333333333333333,\"#9c179e\"],[0.4444444444444444,\"#bd3786\"],[0.5555555555555556,\"#d8576b\"],[0.6666666666666666,\"#ed7953\"],[0.7777777777777778,\"#fb9f3a\"],[0.8888888888888888,\"#fdca26\"],[1.0,\"#f0f921\"]]}],\"heatmapgl\":[{\"type\":\"heatmapgl\",\"colorbar\":{\"outlinewidth\":0,\"ticks\":\"\"},\"colorscale\":[[0.0,\"#0d0887\"],[0.1111111111111111,\"#46039f\"],[0.2222222222222222,\"#7201a8\"],[0.3333333333333333,\"#9c179e\"],[0.4444444444444444,\"#bd3786\"],[0.5555555555555556,\"#d8576b\"],[0.6666666666666666,\"#ed7953\"],[0.7777777777777778,\"#fb9f3a\"],[0.8888888888888888,\"#fdca26\"],[1.0,\"#f0f921\"]]}],\"contourcarpet\":[{\"type\":\"contourcarpet\",\"colorbar\":{\"outlinewidth\":0,\"ticks\":\"\"}}],\"contour\":[{\"type\":\"contour\",\"colorbar\":{\"outlinewidth\":0,\"ticks\":\"\"},\"colorscale\":[[0.0,\"#0d0887\"],[0.1111111111111111,\"#46039f\"],[0.2222222222222222,\"#7201a8\"],[0.3333333333333333,\"#9c179e\"],[0.4444444444444444,\"#bd3786\"],[0.5555555555555556,\"#d8576b\"],[0.6666666666666666,\"#ed7953\"],[0.7777777777777778,\"#fb9f3a\"],[0.8888888888888888,\"#fdca26\"],[1.0,\"#f0f921\"]]}],\"surface\":[{\"type\":\"surface\",\"colorbar\":{\"outlinewidth\":0,\"ticks\":\"\"},\"colorscale\":[[0.0,\"#0d0887\"],[0.1111111111111111,\"#46039f\"],[0.2222222222222222,\"#7201a8\"],[0.3333333333333333,\"#9c179e\"],[0.4444444444444444,\"#bd3786\"],[0.5555555555555556,\"#d8576b\"],[0.6666666666666666,\"#ed7953\"],[0.7777777777777778,\"#fb9f3a\"],[0.8888888888888888,\"#fdca26\"],[1.0,\"#f0f921\"]]}],\"mesh3d\":[{\"type\":\"mesh3d\",\"colorbar\":{\"outlinewidth\":0,\"ticks\":\"\"}}],\"scatter\":[{\"fillpattern\":{\"fillmode\":\"overlay\",\"size\":10,\"solidity\":0.2},\"type\":\"scatter\"}],\"parcoords\":[{\"type\":\"parcoords\",\"line\":{\"colorbar\":{\"outlinewidth\":0,\"ticks\":\"\"}}}],\"scatterpolargl\":[{\"type\":\"scatterpolargl\",\"marker\":{\"colorbar\":{\"outlinewidth\":0,\"ticks\":\"\"}}}],\"bar\":[{\"error_x\":{\"color\":\"#2a3f5f\"},\"error_y\":{\"color\":\"#2a3f5f\"},\"marker\":{\"line\":{\"color\":\"#E5ECF6\",\"width\":0.5},\"pattern\":{\"fillmode\":\"overlay\",\"size\":10,\"solidity\":0.2}},\"type\":\"bar\"}],\"scattergeo\":[{\"type\":\"scattergeo\",\"marker\":{\"colorbar\":{\"outlinewidth\":0,\"ticks\":\"\"}}}],\"scatterpolar\":[{\"type\":\"scatterpolar\",\"marker\":{\"colorbar\":{\"outlinewidth\":0,\"ticks\":\"\"}}}],\"histogram\":[{\"marker\":{\"pattern\":{\"fillmode\":\"overlay\",\"size\":10,\"solidity\":0.2}},\"type\":\"histogram\"}],\"scattergl\":[{\"type\":\"scattergl\",\"marker\":{\"colorbar\":{\"outlinewidth\":0,\"ticks\":\"\"}}}],\"scatter3d\":[{\"type\":\"scatter3d\",\"line\":{\"colorbar\":{\"outlinewidth\":0,\"ticks\":\"\"}},\"marker\":{\"colorbar\":{\"outlinewidth\":0,\"ticks\":\"\"}}}],\"scattermapbox\":[{\"type\":\"scattermapbox\",\"marker\":{\"colorbar\":{\"outlinewidth\":0,\"ticks\":\"\"}}}],\"scatterternary\":[{\"type\":\"scatterternary\",\"marker\":{\"colorbar\":{\"outlinewidth\":0,\"ticks\":\"\"}}}],\"scattercarpet\":[{\"type\":\"scattercarpet\",\"marker\":{\"colorbar\":{\"outlinewidth\":0,\"ticks\":\"\"}}}],\"carpet\":[{\"aaxis\":{\"endlinecolor\":\"#2a3f5f\",\"gridcolor\":\"white\",\"linecolor\":\"white\",\"minorgridcolor\":\"white\",\"startlinecolor\":\"#2a3f5f\"},\"baxis\":{\"endlinecolor\":\"#2a3f5f\",\"gridcolor\":\"white\",\"linecolor\":\"white\",\"minorgridcolor\":\"white\",\"startlinecolor\":\"#2a3f5f\"},\"type\":\"carpet\"}],\"table\":[{\"cells\":{\"fill\":{\"color\":\"#EBF0F8\"},\"line\":{\"color\":\"white\"}},\"header\":{\"fill\":{\"color\":\"#C8D4E3\"},\"line\":{\"color\":\"white\"}},\"type\":\"table\"}],\"barpolar\":[{\"marker\":{\"line\":{\"color\":\"#E5ECF6\",\"width\":0.5},\"pattern\":{\"fillmode\":\"overlay\",\"size\":10,\"solidity\":0.2}},\"type\":\"barpolar\"}],\"pie\":[{\"automargin\":true,\"type\":\"pie\"}]},\"layout\":{\"autotypenumbers\":\"strict\",\"colorway\":[\"#636efa\",\"#EF553B\",\"#00cc96\",\"#ab63fa\",\"#FFA15A\",\"#19d3f3\",\"#FF6692\",\"#B6E880\",\"#FF97FF\",\"#FECB52\"],\"font\":{\"color\":\"#2a3f5f\"},\"hovermode\":\"closest\",\"hoverlabel\":{\"align\":\"left\"},\"paper_bgcolor\":\"white\",\"plot_bgcolor\":\"#E5ECF6\",\"polar\":{\"bgcolor\":\"#E5ECF6\",\"angularaxis\":{\"gridcolor\":\"white\",\"linecolor\":\"white\",\"ticks\":\"\"},\"radialaxis\":{\"gridcolor\":\"white\",\"linecolor\":\"white\",\"ticks\":\"\"}},\"ternary\":{\"bgcolor\":\"#E5ECF6\",\"aaxis\":{\"gridcolor\":\"white\",\"linecolor\":\"white\",\"ticks\":\"\"},\"baxis\":{\"gridcolor\":\"white\",\"linecolor\":\"white\",\"ticks\":\"\"},\"caxis\":{\"gridcolor\":\"white\",\"linecolor\":\"white\",\"ticks\":\"\"}},\"coloraxis\":{\"colorbar\":{\"outlinewidth\":0,\"ticks\":\"\"}},\"colorscale\":{\"sequential\":[[0.0,\"#0d0887\"],[0.1111111111111111,\"#46039f\"],[0.2222222222222222,\"#7201a8\"],[0.3333333333333333,\"#9c179e\"],[0.4444444444444444,\"#bd3786\"],[0.5555555555555556,\"#d8576b\"],[0.6666666666666666,\"#ed7953\"],[0.7777777777777778,\"#fb9f3a\"],[0.8888888888888888,\"#fdca26\"],[1.0,\"#f0f921\"]],\"sequentialminus\":[[0.0,\"#0d0887\"],[0.1111111111111111,\"#46039f\"],[0.2222222222222222,\"#7201a8\"],[0.3333333333333333,\"#9c179e\"],[0.4444444444444444,\"#bd3786\"],[0.5555555555555556,\"#d8576b\"],[0.6666666666666666,\"#ed7953\"],[0.7777777777777778,\"#fb9f3a\"],[0.8888888888888888,\"#fdca26\"],[1.0,\"#f0f921\"]],\"diverging\":[[0,\"#8e0152\"],[0.1,\"#c51b7d\"],[0.2,\"#de77ae\"],[0.3,\"#f1b6da\"],[0.4,\"#fde0ef\"],[0.5,\"#f7f7f7\"],[0.6,\"#e6f5d0\"],[0.7,\"#b8e186\"],[0.8,\"#7fbc41\"],[0.9,\"#4d9221\"],[1,\"#276419\"]]},\"xaxis\":{\"gridcolor\":\"white\",\"linecolor\":\"white\",\"ticks\":\"\",\"title\":{\"standoff\":15},\"zerolinecolor\":\"white\",\"automargin\":true,\"zerolinewidth\":2},\"yaxis\":{\"gridcolor\":\"white\",\"linecolor\":\"white\",\"ticks\":\"\",\"title\":{\"standoff\":15},\"zerolinecolor\":\"white\",\"automargin\":true,\"zerolinewidth\":2},\"scene\":{\"xaxis\":{\"backgroundcolor\":\"#E5ECF6\",\"gridcolor\":\"white\",\"linecolor\":\"white\",\"showbackground\":true,\"ticks\":\"\",\"zerolinecolor\":\"white\",\"gridwidth\":2},\"yaxis\":{\"backgroundcolor\":\"#E5ECF6\",\"gridcolor\":\"white\",\"linecolor\":\"white\",\"showbackground\":true,\"ticks\":\"\",\"zerolinecolor\":\"white\",\"gridwidth\":2},\"zaxis\":{\"backgroundcolor\":\"#E5ECF6\",\"gridcolor\":\"white\",\"linecolor\":\"white\",\"showbackground\":true,\"ticks\":\"\",\"zerolinecolor\":\"white\",\"gridwidth\":2}},\"shapedefaults\":{\"line\":{\"color\":\"#2a3f5f\"}},\"annotationdefaults\":{\"arrowcolor\":\"#2a3f5f\",\"arrowhead\":0,\"arrowwidth\":1},\"geo\":{\"bgcolor\":\"white\",\"landcolor\":\"#E5ECF6\",\"subunitcolor\":\"white\",\"showland\":true,\"showlakes\":true,\"lakecolor\":\"white\"},\"title\":{\"x\":0.05},\"mapbox\":{\"style\":\"light\"}}},\"xaxis\":{\"anchor\":\"y\",\"domain\":[0.0,1.0],\"title\":{\"text\":\"Retail Price\"}},\"yaxis\":{\"anchor\":\"x\",\"domain\":[0.0,1.0],\"title\":{\"text\":\"Avg Price Premium\"}},\"legend\":{\"tracegroupgap\":0,\"itemsizing\":\"constant\"},\"title\":{\"text\":\"Nike x Off-White Sneaker Resale\"},\"height\":400,\"width\":700},                        {\"responsive\": true}                    ).then(function(){\n",
       "                            \n",
       "var gd = document.getElementById('d6cc8f94-aef4-4faf-9559-d0235bf43a61');\n",
       "var x = new MutationObserver(function (mutations, observer) {{\n",
       "        var display = window.getComputedStyle(gd).display;\n",
       "        if (!display || display === 'none') {{\n",
       "            console.log([gd, 'removed!']);\n",
       "            Plotly.purge(gd);\n",
       "            observer.disconnect();\n",
       "        }}\n",
       "}});\n",
       "\n",
       "// Listen for the removal of the full notebook cells\n",
       "var notebookContainer = gd.closest('#notebook-container');\n",
       "if (notebookContainer) {{\n",
       "    x.observe(notebookContainer, {childList: true});\n",
       "}}\n",
       "\n",
       "// Listen for the clearing of the current output cell\n",
       "var outputEl = gd.closest('.output');\n",
       "if (outputEl) {{\n",
       "    x.observe(outputEl, {childList: true});\n",
       "}}\n",
       "\n",
       "                        })                };                });            </script>        </div>"
      ]
     },
     "metadata": {},
     "output_type": "display_data"
    }
   ],
   "source": [
    "px.scatter(\n",
    "    ow_sneakers,\n",
    "    x='Retail Price',\n",
    "    y='Avg Price Premium',\n",
    "    size='# of Sales',\n",
    "    title='Nike x Off-White Sneaker Resale',\n",
    "    height=400,\n",
    "    width=700\n",
    ")"
   ]
  },
  {
   "cell_type": "code",
   "execution_count": 69,
   "id": "88fde5ad-93a4-4f60-88a1-f2801b3e2067",
   "metadata": {},
   "outputs": [],
   "source": [
    "ow_sneakers.reindex([0, 1, 2, 3, 4, 5, 6, 7, 8, 9, 10, 11, 12, 13, 15, 16, 18, 19, 20, 21, 22, 23, 14, 17])\\\n",
    "    .to_csv('off-white resale data.csv', index=False)"
   ]
  }
 ],
 "metadata": {
  "kernelspec": {
   "display_name": "stockx",
   "language": "python",
   "name": "stockx"
  },
  "language_info": {
   "codemirror_mode": {
    "name": "ipython",
    "version": 3
   },
   "file_extension": ".py",
   "mimetype": "text/x-python",
   "name": "python",
   "nbconvert_exporter": "python",
   "pygments_lexer": "ipython3",
   "version": "3.11.7"
  }
 },
 "nbformat": 4,
 "nbformat_minor": 5
}
